{
 "cells": [
  {
   "cell_type": "markdown",
   "id": "6fa5a772",
   "metadata": {},
   "source": []
  },
  {
   "cell_type": "code",
   "execution_count": null,
   "id": "e0de94be",
   "metadata": {},
   "outputs": [],
   "source": [
    "import emails from dummy\n",
    "import labels from dummy\n",
    "\n",
    "for i in range(10):\n",
    "    print(labels[i])"
   ]
  }
 ],
 "metadata": {
  "kernelspec": {
   "display_name": ".venv",
   "language": "python",
   "name": "python3"
  },
  "language_info": {
   "name": "python",
   "version": "3.13.2"
  }
 },
 "nbformat": 4,
 "nbformat_minor": 5
}
