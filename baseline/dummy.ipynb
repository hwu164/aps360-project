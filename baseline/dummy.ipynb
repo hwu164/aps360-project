{
 "cells": [
  {
   "cell_type": "markdown",
   "id": "2075b5ba",
   "metadata": {},
   "source": [
    "taken from https://scikit-learn.org/stable/modules/generated/sklearn.dummy.DummyClassifier.html"
   ]
  },
  {
   "cell_type": "code",
   "execution_count": 26,
   "id": "5382b142",
   "metadata": {},
   "outputs": [
    {
     "name": "stdout",
     "output_type": "stream",
     "text": [
      "Accuracy: 90.22%\n",
      "Precision: 7.47%\n",
      "Recall: 7.30%\n"
     ]
    }
   ],
   "source": [
    "import numpy as np\n",
    "from sklearn.dummy import DummyClassifier   # ml library\n",
    "from sklearn.metrics import precision_score, recall_score\n",
    "\n",
    "# parameters\n",
    "data_size = 10000\n",
    "chosen_seed = 82\n",
    "\n",
    "# generate dummy email data\n",
    "emails = [f\"email {i}\" for i in range(0, data_size)]  \n",
    "rng = np.random.default_rng(seed=chosen_seed)  \n",
    "labels = rng.choice([0,1], size=data_size, p=[0.95, 0.05])   # 0 for ham, 1 for phishing; 95/5 distribution\n",
    "\n",
    "# prepare arrays\n",
    "X = np.array(emails).reshape(-1, 1) # shape should be (N, 1) as sklearn assumes multiple features\n",
    "y = np.array(labels)\n",
    "\n",
    "# create stratified dummy classifier\n",
    "dummy_clf = DummyClassifier(strategy=\"stratified\", random_state=chosen_seed)\n",
    "dummy_clf.fit(X, y)\n",
    "y_pred = dummy_clf.predict(X)\n",
    "\n",
    "# create evaluation metrics\n",
    "accuracy = dummy_clf.score(X, y)\n",
    "precision = precision_score(y_true=y, y_pred=y_pred, pos_label=1, zero_division=0)\n",
    "recall = recall_score(y_true=y, y_pred=y_pred, pos_label=1, zero_division=0)\n",
    "\n",
    "print(f\"Accuracy: {accuracy*100:.2f}%\")\n",
    "print(f\"Precision: {precision*100:.2f}%\")    # true positives/(true positives+false positives) --> out of all emails predicted as phishing, how many were phishing?\n",
    "print(f\"Recall: {recall*100:.2f}%\")          # true positives/(true positives+false negatives) --> how many phishing were caught out of the total phishing amount?"
   ]
  }
 ],
 "metadata": {
  "kernelspec": {
   "display_name": ".venv",
   "language": "python",
   "name": "python3"
  },
  "language_info": {
   "codemirror_mode": {
    "name": "ipython",
    "version": 3
   },
   "file_extension": ".py",
   "mimetype": "text/x-python",
   "name": "python",
   "nbconvert_exporter": "python",
   "pygments_lexer": "ipython3",
   "version": "3.13.2"
  }
 },
 "nbformat": 4,
 "nbformat_minor": 5
}
